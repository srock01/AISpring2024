{
  "nbformat": 4,
  "nbformat_minor": 0,
  "metadata": {
    "colab": {
      "provenance": [],
      "toc_visible": true,
      "authorship_tag": "ABX9TyNQu8WiuJBu1d5lJTrjQOqv",
      "include_colab_link": true
    },
    "kernelspec": {
      "name": "python3",
      "display_name": "Python 3"
    },
    "language_info": {
      "name": "python"
    }
  },
  "cells": [
    {
      "cell_type": "markdown",
      "metadata": {
        "id": "view-in-github",
        "colab_type": "text"
      },
      "source": [
        "<a href=\"https://colab.research.google.com/github/srock01/AISpring2024/blob/main/Asssignment2/WaterJugPuzzle.ipynb\" target=\"_parent\"><img src=\"https://colab.research.google.com/assets/colab-badge.svg\" alt=\"Open In Colab\"/></a>"
      ]
    },
    {
      "cell_type": "markdown",
      "source": [],
      "metadata": {
        "id": "C9RXZYXybbmR"
      }
    },
    {
      "cell_type": "markdown",
      "source": [
        "#Assignment 1  Water Jug Puzzle\n",
        "###Artificial Intelligence CS 362\n",
        "#####Sean Rock\n",
        "\n",
        "I define 6 rules for the problem after setting the start state. The rules prevent any illegal states from occuring by checking bounds with boolean statements."
      ],
      "metadata": {
        "id": "JUpRd3R31tFQ"
      }
    },
    {
      "cell_type": "code",
      "source": [
        "class WaterJugPuzzle():\n",
        "\n",
        "    # We model the state using two sets of strings: left bank and right bank\n",
        "    def __init__(self):\n",
        "        self.fiveLiter  = 0\n",
        "        self.threeLiter = 0\n",
        "\n",
        "\n",
        "    ####################################################################\n",
        "    # Rule 1: Empty the 5L Bucket\n",
        "    ####################################################################\n",
        "    def R1_empty_five(self):\n",
        "        self.fiveLiter = 0\n",
        "    ####################################################################\n",
        "    # Rule 2: Empty the 3L Bucket\n",
        "    ####################################################################\n",
        "    def R2_empty_three(self):\n",
        "        self.threeLiter = 0\n",
        "    ####################################################################\n",
        "    # Rule 3: Fill the 5L Bucket\n",
        "    ####################################################################\n",
        "    def R3_fill_five(self):\n",
        "        self.fiveLiter = 5\n",
        "    ####################################################################\n",
        "    # Rule 4: Fill the 3L Bucket\n",
        "    ####################################################################\n",
        "    def R4_fill_three(self):\n",
        "        self.threeLiter = 3\n",
        "    ####################################################################\n",
        "    # Rule 5: Pour the 5L Bucket into the 3L Bucket\n",
        "    ####################################################################\n",
        "    def R5_five_into_three(self):\n",
        "        maxReceive = 3 - self.threeLiter\n",
        "        #sets maxPour to either 3 or the amount in fiveLiter\n",
        "        if (self.fiveLiter > 3):\n",
        "            maxPour = 3\n",
        "        else:\n",
        "            maxPour = self.fiveLiter\n",
        "\n",
        "        #compare maxPour and maxReceive values and adjust the states accordingly\n",
        "        if (maxPour >= maxReceive):\n",
        "            self.fiveLiter = self.fiveLiter - maxReceive\n",
        "            self.threeLiter = self.threeLiter + maxReceive\n",
        "        else:\n",
        "            self.fiveLiter = 0\n",
        "            self.threeLiter = self.threeLiter + maxPour\n",
        "    ####################################################################\n",
        "    # Rule 6: Pour the 3L Bucket into the 5L Bucket\n",
        "    ####################################################################\n",
        "    def R6_three_into_five(self):\n",
        "        maxReceive = 5 - self.fiveLiter\n",
        "        maxPour = self.threeLiter\n",
        "        #compare maxPour and maxReceive values and adjust the states accordingly\n",
        "        if (maxPour >= maxReceive):\n",
        "            self.fiveLiter = self.fiveLiter + maxReceive\n",
        "            self.threeLiter = self.threeLiter - maxReceive\n",
        "        else:\n",
        "            self.threeLiter = 0\n",
        "            self.fiveLiter = self.threeLiter + maxPour\n",
        "\n",
        "\n",
        "    ####################################################################\n",
        "    # Display who is where\n",
        "    ####################################################################\n",
        "    def print_state(self):\n",
        "        print(\"===> 5L Bucket contains: {s}L, 3L Bucket contains: {h}L\".format(s=self.fiveLiter, h=self.threeLiter))\n",
        "\n",
        "\n",
        "#@title Forming the Solution\n",
        "\n",
        "wj = WaterJugPuzzle()\n",
        "\n",
        "# print the initial state\n",
        "wj.print_state()\n",
        "\n",
        "\n",
        "print(\"-----------------------\")\n",
        "# apply a rule and print the resulting state\n",
        "wj.R3_fill_five()\n",
        "wj.print_state()\n",
        "\n",
        "print(\"-----------------------\")\n",
        "wj.R5_five_into_three()\n",
        "wj.print_state()\n",
        "\n",
        "print(\"-----------------------\")\n",
        "wj.R2_empty_three()\n",
        "wj.print_state()\n",
        "\n",
        "print(\"-----------------------\")\n",
        "wj.R5_five_into_three()\n",
        "wj.print_state()\n",
        "\n",
        "print(\"-----------------------\")\n",
        "wj.R3_fill_five()\n",
        "wj.print_state()\n",
        "\n",
        "print(\"-----------------------\")\n",
        "wj.R5_five_into_three()\n",
        "wj.print_state()\n",
        "\n",
        "\n"
      ],
      "metadata": {
        "colab": {
          "base_uri": "https://localhost:8080/"
        },
        "id": "tu2xfT8jdpdc",
        "outputId": "7f3fd687-1c56-4cf0-e08d-856f63e17123"
      },
      "execution_count": 3,
      "outputs": [
        {
          "output_type": "stream",
          "name": "stdout",
          "text": [
            "===> 5L Bucket contains: 0L, 3L Bucket contains: 0L\n",
            "-----------------------\n",
            "===> 5L Bucket contains: 5L, 3L Bucket contains: 0L\n",
            "-----------------------\n",
            "===> 5L Bucket contains: 2L, 3L Bucket contains: 3L\n",
            "-----------------------\n",
            "===> 5L Bucket contains: 2L, 3L Bucket contains: 0L\n",
            "-----------------------\n",
            "===> 5L Bucket contains: 0L, 3L Bucket contains: 2L\n",
            "-----------------------\n",
            "===> 5L Bucket contains: 5L, 3L Bucket contains: 2L\n",
            "-----------------------\n",
            "===> 5L Bucket contains: 4L, 3L Bucket contains: 3L\n"
          ]
        }
      ]
    },
    {
      "cell_type": "markdown",
      "source": [
        "The solution executes each rule and then prints the current state. The program ends on the print statement after the last rule when the goal state is reached."
      ],
      "metadata": {
        "id": "4qw0tiAsbdKE"
      }
    }
  ]
}