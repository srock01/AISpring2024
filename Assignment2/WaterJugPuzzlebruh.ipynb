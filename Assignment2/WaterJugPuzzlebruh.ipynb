{
  "nbformat": 4,
  "nbformat_minor": 0,
  "metadata": {
    "colab": {
      "provenance": [],
      "toc_visible": true
    },
    "kernelspec": {
      "name": "python3",
      "display_name": "Python 3"
    },
    "language_info": {
      "name": "python"
    }
  },
  "cells": [
    {
      "cell_type": "markdown",
      "source": [
        "#Assignment 1  Water Jug Puzzle\n",
        "###Artificial Intelligence CS 362\n",
        "#####Sean Rock\n",
        "\n",
        "I solved the"
      ],
      "metadata": {
        "id": "JUpRd3R31tFQ"
      }
    },
    {
      "cell_type": "code",
      "source": [
        "class WaterJugPuzzle():\n",
        "\n",
        "    # We model the state using two sets of strings: left bank and right bank\n",
        "    def __init__(self):\n",
        "        self.fiveLiter  = 0\n",
        "        self.threeLiter = 0\n",
        "\n",
        "\n",
        "    ####################################################################\n",
        "    # Rule 1: Empty the 5L Bucket\n",
        "    ####################################################################\n",
        "    def R1_empty_five(self):\n",
        "        self.fiveLiter = 0\n",
        "    ####################################################################\n",
        "    # Rule 2: Empty the 3L Bucket\n",
        "    ####################################################################\n",
        "    def R2_empty_three(self):\n",
        "        self.threeLiter = 0\n",
        "    ####################################################################\n",
        "    # Rule 3: Fill the 5L Bucket\n",
        "    ####################################################################\n",
        "    def R3_fill_five(self):\n",
        "        self.fiveLiter = 5\n",
        "    ####################################################################\n",
        "    # Rule 4: Fill the 3L Bucket\n",
        "    ####################################################################\n",
        "    def R4_fill_three(self):\n",
        "        self.threeLiter = 3\n",
        "    ####################################################################\n",
        "    # Rule 5: Pour the 5L Bucket into the 3L Bucket\n",
        "    ####################################################################\n",
        "    def R5_five_into_three(self):\n",
        "        maxReceive = 3 - self.threeLiter\n",
        "        if (self.fiveLiter > 3):\n",
        "            maxPour = 3\n",
        "        else:\n",
        "            maxPour = self.fiveLiter\n",
        "        if (maxPour >= maxReceive):\n",
        "            self.fiveLiter = self.fiveLiter - maxReceive\n",
        "            self.threeLiter = self.threeLiter + maxReceive\n",
        "        else:\n",
        "            self.fiveLiter = 0\n",
        "            self.threeLiter = self.threeLiter + maxPour\n",
        "    ####################################################################\n",
        "    # Rule 6: Pour the 3L Bucket into the 5L Bucket\n",
        "    ####################################################################\n",
        "    def R6_three_into_five(self):\n",
        "        maxReceive = 5 - self.fiveLiter\n",
        "        maxPour = self.threeLiter\n",
        "        if (maxPour >= maxReceive):\n",
        "            self.fiveLiter = self.fiveLiter + maxReceive\n",
        "            self.threeLiter = self.threeLiter - maxReceive\n",
        "        else:\n",
        "            self.threeLiter = 0\n",
        "            self.fiveLiter = self.threeLiter + maxPour\n",
        "\n",
        "\n",
        "    ####################################################################\n",
        "    # Display who is where\n",
        "    ####################################################################\n",
        "    def print_state(self):\n",
        "        print(\"===> 5L Bucket contains: {s}L, 3L Bucket contains: {h}:\".format(s=self.fiveLiter, h=self.threeLiter))\n",
        "\n",
        "\n",
        "#@title Forming the Solution\n",
        "\n",
        "wj = WaterJugPuzzle()\n",
        "\n",
        "# print the initial state\n",
        "wj.print_state()\n",
        "\n",
        "\n",
        "print(\"-----------------------\")\n",
        "# apply a rule and print the resulting state\n",
        "wj.R3_fill_five()\n",
        "wj.print_state()\n",
        "\n",
        "print(\"-----------------------\")\n",
        "wj.R5_five_into_three()\n",
        "wj.print_state()\n",
        "\n",
        "print(\"-----------------------\")\n",
        "wj.R2_empty_three()\n",
        "wj.print_state()\n",
        "\n",
        "print(\"-----------------------\")\n",
        "wj.R5_five_into_three()\n",
        "wj.print_state()\n",
        "\n",
        "print(\"-----------------------\")\n",
        "wj.R3_fill_five()\n",
        "wj.print_state()\n",
        "\n",
        "print(\"-----------------------\")\n",
        "wj.R5_five_into_three()\n",
        "wj.print_state()\n",
        "\n",
        "print(\"-----------------------\")\n",
        "wj.R6_three_into_five()\n",
        "wj.print_state()\n",
        "\n"
      ],
      "metadata": {
        "colab": {
          "base_uri": "https://localhost:8080/"
        },
        "id": "tu2xfT8jdpdc",
        "outputId": "d9b16dd4-0aaa-4313-f29a-1b0dffcde43c"
      },
      "execution_count": 13,
      "outputs": [
        {
          "output_type": "stream",
          "name": "stdout",
          "text": [
            "===> 5L Bucket contains 0L, 3L Bucket: 0\n",
            "-----------------------\n",
            "===> 5L Bucket contains 5L, 3L Bucket: 0\n",
            "-----------------------\n",
            "===> 5L Bucket contains 2L, 3L Bucket: 3\n",
            "-----------------------\n",
            "===> 5L Bucket contains 2L, 3L Bucket: 0\n",
            "-----------------------\n",
            "===> 5L Bucket contains 0L, 3L Bucket: 2\n",
            "-----------------------\n",
            "===> 5L Bucket contains 5L, 3L Bucket: 2\n",
            "-----------------------\n",
            "===> 5L Bucket contains 4L, 3L Bucket: 3\n",
            "-----------------------\n",
            "===> 5L Bucket contains 5L, 3L Bucket: 2\n"
          ]
        }
      ]
    }
  ]
}
