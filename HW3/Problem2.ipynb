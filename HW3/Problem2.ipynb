{
  "nbformat": 4,
  "nbformat_minor": 0,
  "metadata": {
    "colab": {
      "provenance": [],
      "authorship_tag": "ABX9TyMwfI8IdSIAI9pKiPvfdAn5",
      "include_colab_link": true
    },
    "kernelspec": {
      "name": "python3",
      "display_name": "Python 3"
    },
    "language_info": {
      "name": "python"
    }
  },
  "cells": [
    {
      "cell_type": "markdown",
      "metadata": {
        "id": "view-in-github",
        "colab_type": "text"
      },
      "source": [
        "<a href=\"https://colab.research.google.com/github/srock01/AISpring2024/blob/main/HW3/Problem2.ipynb\" target=\"_parent\"><img src=\"https://colab.research.google.com/assets/colab-badge.svg\" alt=\"Open In Colab\"/></a>"
      ]
    },
    {
      "cell_type": "markdown",
      "source": [
        "#Assignment 3\n",
        "###Problem 2: BFS PotentialFriends\n",
        "Takes social media graph and source node. Returns potentially missing connections (friends of a friend).\n",
        "\n",
        "By: Sean Rock"
      ],
      "metadata": {
        "id": "FVZ_S76fyxi8"
      }
    },
    {
      "cell_type": "code",
      "execution_count": 1,
      "metadata": {
        "colab": {
          "base_uri": "https://localhost:8080/"
        },
        "id": "F9M7J2dRymB0",
        "outputId": "5bf2a598-a93b-458b-bba6-0e17da354c44"
      },
      "outputs": [
        {
          "output_type": "stream",
          "name": "stdout",
          "text": [
            "David Adam "
          ]
        }
      ],
      "source": [
        "# See https://realpython.com/python-deque/\n",
        "\n",
        "from collections import deque\n",
        "\n",
        "# Start the graph search from root using a doubly-ended queue\n",
        "\n",
        "def BFS(graph, root):\n",
        "\n",
        "    # deque is list-like container with fast appends and pops on either end\n",
        "    visited, queue, depth = set(), deque([root]), deque([0])\n",
        "    visited.add(root)\n",
        "    # Keep exploring as long as the queue is not empty\n",
        "    while queue:\n",
        "\n",
        "        # Dequeue a vertex from queue\n",
        "        vertex = queue.popleft()\n",
        "\n",
        "        # sets the current vertex depth level and prints the vertex if it is at\n",
        "        # depth level 2 (friend of a friend)\n",
        "        depthTemp = depth.popleft()+1\n",
        "        if depthTemp-1 == 2:\n",
        "            print(vertex, end=\" \")\n",
        "\n",
        "        # If not visited, mark it as visited, and enqueue it and its depth\n",
        "        for neighbor in graph[vertex]:\n",
        "            if neighbor not in visited:\n",
        "                visited.add(neighbor)\n",
        "                queue.append(neighbor)\n",
        "                depth.append(depthTemp)\n",
        "\n",
        "\n",
        "# Represent the graph using an adjacency list\n",
        "social = {\n",
        "  'Adam': ['Maria'],\n",
        "  'Maria': ['Sophia', 'Maya', 'David', 'Adam'],\n",
        "  'Maya': ['Maria', 'David', 'Sophia'],\n",
        "  'David': ['Maya', 'Maria'],\n",
        "  'Sophia': ['Maya', 'Maria', ]\n",
        "}\n",
        "\n",
        "\n",
        "BFS(social, 'Sophia')"
      ]
    }
  ]
}