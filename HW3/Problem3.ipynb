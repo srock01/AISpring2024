{
  "nbformat": 4,
  "nbformat_minor": 0,
  "metadata": {
    "colab": {
      "provenance": [],
      "authorship_tag": "ABX9TyOnRvUP2lqGy18rSJtoyjaD",
      "include_colab_link": true
    },
    "kernelspec": {
      "name": "python3",
      "display_name": "Python 3"
    },
    "language_info": {
      "name": "python"
    }
  },
  "cells": [
    {
      "cell_type": "markdown",
      "metadata": {
        "id": "view-in-github",
        "colab_type": "text"
      },
      "source": [
        "<a href=\"https://colab.research.google.com/github/srock01/AISpring2024/blob/main/HW3/Problem3.ipynb\" target=\"_parent\"><img src=\"https://colab.research.google.com/assets/colab-badge.svg\" alt=\"Open In Colab\"/></a>"
      ]
    },
    {
      "cell_type": "markdown",
      "source": [
        "#Assignment 3\n",
        "###Problem 3: DFS Search\n",
        "Checks whether the target or goal node is reachable from the start node. If it is return true, otherwise returns false.\n",
        "\n",
        "By: Sean Rock"
      ],
      "metadata": {
        "id": "SHTBMKsz7clB"
      }
    },
    {
      "cell_type": "code",
      "execution_count": 6,
      "metadata": {
        "colab": {
          "base_uri": "https://localhost:8080/"
        },
        "id": "fJtU6Wp7BRRl",
        "outputId": "9c51ae2c-bfb2-4b70-f5be-3451d0272688"
      },
      "outputs": [
        {
          "output_type": "stream",
          "name": "stdout",
          "text": [
            "Failure: vertex 8 not found\n"
          ]
        },
        {
          "output_type": "execute_result",
          "data": {
            "text/plain": [
              "False"
            ]
          },
          "metadata": {},
          "execution_count": 6
        }
      ],
      "source": [
        "# See https://realpython.com/python-deque/\n",
        "\n",
        "from collections import deque\n",
        "\n",
        "# Start the graph search from root using a doubly-ended queue\n",
        "\n",
        "def DFS(graph, root, goal):\n",
        "\n",
        "    # deque is list-like container with fast appends and pops on either end\n",
        "    visited, queue = set(), deque([root])\n",
        "    visited.add(root)\n",
        "\n",
        "    # Keep exploring as long as the queue is not empty\n",
        "    while queue:\n",
        "\n",
        "        # Dequeue a vertex from queue\n",
        "        vertex = queue.popleft()\n",
        "\n",
        "        # If not visited, mark it as visited, and enqueue it\n",
        "        for neighbor in graph[vertex]:\n",
        "        # Checks if the goal node has been reach. If so, it prints\n",
        "        # Success and return True\n",
        "            if neighbor == goal:\n",
        "                print( \"Success: \"+neighbor+\" found\")\n",
        "                return True\n",
        "            if neighbor not in visited:\n",
        "                visited.add(neighbor)\n",
        "                queue.appendleft(neighbor)\n",
        "\n",
        "    #if the while loop doesn't return true by the time queue is empty\n",
        "    # print Failure and return false\n",
        "    print(\"Failure: vertex \"+goal +\" not found\")\n",
        "    return False\n",
        "\n",
        "# Represent the graph using an adjacency list\n",
        "graph3 = {\n",
        "  '0' : ['1', '3'],\n",
        "  '1' : ['0', '4'],\n",
        "  '2' : ['5'],\n",
        "  '3' : ['0','6'],\n",
        "  '4' : ['1', '5'],\n",
        "  '5':  ['2', '4'],\n",
        "  '6' : ['3','7'],\n",
        "  '7' : ['6'],\n",
        "  '8' : []\n",
        "}\n",
        "\n",
        "\n",
        "\n",
        "DFS(graph3, '0', '8')"
      ]
    }
  ]
}