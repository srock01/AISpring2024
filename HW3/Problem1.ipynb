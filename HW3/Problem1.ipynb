{
  "nbformat": 4,
  "nbformat_minor": 0,
  "metadata": {
    "colab": {
      "provenance": [],
      "authorship_tag": "ABX9TyMjd+5wDae95b8mMneyfS36",
      "include_colab_link": true
    },
    "kernelspec": {
      "name": "python3",
      "display_name": "Python 3"
    },
    "language_info": {
      "name": "python"
    }
  },
  "cells": [
    {
      "cell_type": "markdown",
      "metadata": {
        "id": "view-in-github",
        "colab_type": "text"
      },
      "source": [
        "<a href=\"https://colab.research.google.com/github/srock01/AISpring2024/blob/main/HW3/Problem1.ipynb\" target=\"_parent\"><img src=\"https://colab.research.google.com/assets/colab-badge.svg\" alt=\"Open In Colab\"/></a>"
      ]
    },
    {
      "cell_type": "markdown",
      "source": [
        "#Assignment 3\n",
        "###Problem 1: BFS FindFriend\n",
        "The method takes a social media graph, a source user, and friend separation level. It uses BFS to print out all the users at the given level.\n",
        "\n",
        "By: Sean Rock"
      ],
      "metadata": {
        "id": "L_eK8wCRkSPe"
      }
    },
    {
      "cell_type": "markdown",
      "source": [],
      "metadata": {
        "id": "iB3z-oN9kyR6"
      }
    },
    {
      "cell_type": "code",
      "execution_count": 11,
      "metadata": {
        "colab": {
          "base_uri": "https://localhost:8080/"
        },
        "id": "u6p-nWbgkDWl",
        "outputId": "4470bf3a-dd2e-41b3-88fe-614788c0a610"
      },
      "outputs": [
        {
          "output_type": "stream",
          "name": "stdout",
          "text": [
            "Anna Amy "
          ]
        }
      ],
      "source": [
        "# See https://realpython.com/python-deque/\n",
        "\n",
        "from collections import deque\n",
        "\n",
        "# Start the graph search from root using a doubly-ended queue\n",
        "\n",
        "def FindFriends(graph, root, level):\n",
        "\n",
        "    # initializes visited set and deques for tracking queue of vertices and the level of them\n",
        "    visited, queue, depth = set(), deque([root]), deque([0])\n",
        "    visited.add(root)\n",
        "    # Keep exploring as long as the queue is not empty\n",
        "    while queue:\n",
        "\n",
        "        # Dequeue a vertex from queue\n",
        "        vertex = queue.popleft()\n",
        "\n",
        "        # sets the vertex depth level and prints the vertex if if the depth\n",
        "        # is equal to the target level\n",
        "        depthTemp = depth.popleft()+1\n",
        "        if depthTemp-1 == level:\n",
        "            print(vertex, end=\" \")\n",
        "\n",
        "        # If not visited, mark it as visited, and enqueue it and its depth level\n",
        "        for neighbor in graph[vertex]:\n",
        "            if neighbor not in visited:\n",
        "                visited.add(neighbor)\n",
        "                queue.append(neighbor)\n",
        "                depth.append(depthTemp)\n",
        "\n",
        "# Represent the graph using an adjacency list\n",
        "social = {\n",
        "  'Bob' : ['Pam','Rob','Richard'],\n",
        "  'Pam' : ['Rodger', 'Peter'],\n",
        "  'Peter' : ['Amy'],\n",
        "  'Amy' : [],\n",
        "  'Anna' : [],\n",
        "  'Richard' : [],\n",
        "  'Rodger' : ['Anna'],\n",
        "  'Rob' : []\n",
        "}\n",
        "\n",
        "\n",
        "FindFriends(social, 'Pam',3)"
      ]
    }
  ]
}